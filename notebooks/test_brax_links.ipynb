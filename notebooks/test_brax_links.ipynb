{
  "cells": [
    {
      "cell_type": "code",
      "execution_count": 2,
      "metadata": {
        "colab": {
          "base_uri": "https://localhost:8080/"
        },
        "id": "kYqqsw6fNLLl",
        "outputId": "804e05e3-5000-4565-fd9d-daeaac22ed92"
      },
      "outputs": [
        {
          "name": "stdout",
          "output_type": "stream",
          "text": [
            "Found existing installation: brax 0.9.3\n",
            "Uninstalling brax-0.9.3:\n",
            "  Would remove:\n",
            "    /usr/local/bin/learn\n",
            "    /usr/local/lib/python3.10/dist-packages/brax-0.9.3.dist-info/*\n",
            "    /usr/local/lib/python3.10/dist-packages/brax/*\n",
            "Proceed (Y/n)? y\n",
            "  Successfully uninstalled brax-0.9.3\n",
            "Collecting git+https://github.com/izo0619/brax.git@mod_hopper\n",
            "  Cloning https://github.com/izo0619/brax.git (to revision mod_hopper) to /tmp/pip-req-build-10ohx91y\n",
            "  Running command git clone --filter=blob:none --quiet https://github.com/izo0619/brax.git /tmp/pip-req-build-10ohx91y\n",
            "  Running command git checkout -b mod_hopper --track origin/mod_hopper\n",
            "  Switched to a new branch 'mod_hopper'\n",
            "  Branch 'mod_hopper' set up to track remote branch 'mod_hopper' from 'origin'.\n",
            "  Resolved https://github.com/izo0619/brax.git to commit 0177a6d5299cb430b2399d90497a7e8f034c7d91\n",
            "  Preparing metadata (setup.py) ... \u001b[?25l\u001b[?25hdone\n",
            "Requirement already satisfied: absl-py in /usr/local/lib/python3.10/dist-packages (from brax==0.9.3) (1.4.0)\n",
            "Requirement already satisfied: dm_env in /usr/local/lib/python3.10/dist-packages (from brax==0.9.3) (1.6)\n",
            "Requirement already satisfied: etils in /usr/local/lib/python3.10/dist-packages (from brax==0.9.3) (1.5.2)\n",
            "Requirement already satisfied: flask in /usr/local/lib/python3.10/dist-packages (from brax==0.9.3) (2.2.5)\n",
            "Requirement already satisfied: flask_cors in /usr/local/lib/python3.10/dist-packages (from brax==0.9.3) (4.0.0)\n",
            "Requirement already satisfied: flax in /usr/local/lib/python3.10/dist-packages (from brax==0.9.3) (0.7.4)\n",
            "Requirement already satisfied: grpcio in /usr/local/lib/python3.10/dist-packages (from brax==0.9.3) (1.59.0)\n",
            "Requirement already satisfied: gym in /usr/local/lib/python3.10/dist-packages (from brax==0.9.3) (0.25.2)\n",
            "Requirement already satisfied: jax>=0.4.6 in /usr/local/lib/python3.10/dist-packages (from brax==0.9.3) (0.4.16)\n",
            "Requirement already satisfied: jaxlib>=0.4.6 in /usr/local/lib/python3.10/dist-packages (from brax==0.9.3) (0.4.16+cuda11.cudnn86)\n",
            "Requirement already satisfied: jaxopt in /usr/local/lib/python3.10/dist-packages (from brax==0.9.3) (0.8.2)\n",
            "Requirement already satisfied: jinja2 in /usr/local/lib/python3.10/dist-packages (from brax==0.9.3) (3.1.2)\n",
            "Requirement already satisfied: ml_collections in /usr/local/lib/python3.10/dist-packages (from brax==0.9.3) (0.1.1)\n",
            "Requirement already satisfied: mujoco in /usr/local/lib/python3.10/dist-packages (from brax==0.9.3) (3.0.0)\n",
            "Requirement already satisfied: numpy in /usr/local/lib/python3.10/dist-packages (from brax==0.9.3) (1.23.5)\n",
            "Requirement already satisfied: optax in /usr/local/lib/python3.10/dist-packages (from brax==0.9.3) (0.1.7)\n",
            "Requirement already satisfied: Pillow in /usr/local/lib/python3.10/dist-packages (from brax==0.9.3) (9.4.0)\n",
            "Requirement already satisfied: pytinyrenderer in /usr/local/lib/python3.10/dist-packages (from brax==0.9.3) (0.0.14)\n",
            "Requirement already satisfied: scipy in /usr/local/lib/python3.10/dist-packages (from brax==0.9.3) (1.11.3)\n",
            "Requirement already satisfied: tensorboardX in /usr/local/lib/python3.10/dist-packages (from brax==0.9.3) (2.6.2.2)\n",
            "Requirement already satisfied: trimesh in /usr/local/lib/python3.10/dist-packages (from brax==0.9.3) (4.0.2)\n",
            "Requirement already satisfied: typing-extensions in /usr/local/lib/python3.10/dist-packages (from brax==0.9.3) (4.5.0)\n",
            "Requirement already satisfied: ml-dtypes>=0.2.0 in /usr/local/lib/python3.10/dist-packages (from jax>=0.4.6->brax==0.9.3) (0.2.0)\n",
            "Requirement already satisfied: opt-einsum in /usr/local/lib/python3.10/dist-packages (from jax>=0.4.6->brax==0.9.3) (3.3.0)\n",
            "Requirement already satisfied: dm-tree in /usr/local/lib/python3.10/dist-packages (from dm_env->brax==0.9.3) (0.1.8)\n",
            "Requirement already satisfied: Werkzeug>=2.2.2 in /usr/local/lib/python3.10/dist-packages (from flask->brax==0.9.3) (3.0.1)\n",
            "Requirement already satisfied: itsdangerous>=2.0 in /usr/local/lib/python3.10/dist-packages (from flask->brax==0.9.3) (2.1.2)\n",
            "Requirement already satisfied: click>=8.0 in /usr/local/lib/python3.10/dist-packages (from flask->brax==0.9.3) (8.1.7)\n",
            "Requirement already satisfied: MarkupSafe>=2.0 in /usr/local/lib/python3.10/dist-packages (from jinja2->brax==0.9.3) (2.1.3)\n",
            "Requirement already satisfied: msgpack in /usr/local/lib/python3.10/dist-packages (from flax->brax==0.9.3) (1.0.7)\n",
            "Requirement already satisfied: orbax-checkpoint in /usr/local/lib/python3.10/dist-packages (from flax->brax==0.9.3) (0.4.1)\n",
            "Requirement already satisfied: tensorstore in /usr/local/lib/python3.10/dist-packages (from flax->brax==0.9.3) (0.1.45)\n",
            "Requirement already satisfied: rich>=11.1 in /usr/local/lib/python3.10/dist-packages (from flax->brax==0.9.3) (13.6.0)\n",
            "Requirement already satisfied: PyYAML>=5.4.1 in /usr/local/lib/python3.10/dist-packages (from flax->brax==0.9.3) (6.0.1)\n",
            "Requirement already satisfied: cloudpickle>=1.2.0 in /usr/local/lib/python3.10/dist-packages (from gym->brax==0.9.3) (2.2.1)\n",
            "Requirement already satisfied: gym-notices>=0.0.4 in /usr/local/lib/python3.10/dist-packages (from gym->brax==0.9.3) (0.0.8)\n",
            "Requirement already satisfied: six in /usr/local/lib/python3.10/dist-packages (from ml_collections->brax==0.9.3) (1.16.0)\n",
            "Requirement already satisfied: contextlib2 in /usr/local/lib/python3.10/dist-packages (from ml_collections->brax==0.9.3) (21.6.0)\n",
            "Requirement already satisfied: glfw in /usr/local/lib/python3.10/dist-packages (from mujoco->brax==0.9.3) (2.6.2)\n",
            "Requirement already satisfied: pyopengl in /usr/local/lib/python3.10/dist-packages (from mujoco->brax==0.9.3) (3.1.7)\n",
            "Requirement already satisfied: chex>=0.1.5 in /usr/local/lib/python3.10/dist-packages (from optax->brax==0.9.3) (0.1.7)\n",
            "Requirement already satisfied: packaging in /usr/local/lib/python3.10/dist-packages (from tensorboardX->brax==0.9.3) (23.2)\n",
            "Requirement already satisfied: protobuf>=3.20 in /usr/local/lib/python3.10/dist-packages (from tensorboardX->brax==0.9.3) (3.20.3)\n",
            "Requirement already satisfied: toolz>=0.9.0 in /usr/local/lib/python3.10/dist-packages (from chex>=0.1.5->optax->brax==0.9.3) (0.12.0)\n",
            "Requirement already satisfied: markdown-it-py>=2.2.0 in /usr/local/lib/python3.10/dist-packages (from rich>=11.1->flax->brax==0.9.3) (3.0.0)\n",
            "Requirement already satisfied: pygments<3.0.0,>=2.13.0 in /usr/local/lib/python3.10/dist-packages (from rich>=11.1->flax->brax==0.9.3) (2.16.1)\n",
            "Requirement already satisfied: fsspec in /usr/local/lib/python3.10/dist-packages (from etils->brax==0.9.3) (2023.6.0)\n",
            "Requirement already satisfied: importlib_resources in /usr/local/lib/python3.10/dist-packages (from etils->brax==0.9.3) (6.1.0)\n",
            "Requirement already satisfied: zipp in /usr/local/lib/python3.10/dist-packages (from etils->brax==0.9.3) (3.17.0)\n",
            "Requirement already satisfied: nest_asyncio in /usr/local/lib/python3.10/dist-packages (from orbax-checkpoint->flax->brax==0.9.3) (1.5.8)\n",
            "Requirement already satisfied: mdurl~=0.1 in /usr/local/lib/python3.10/dist-packages (from markdown-it-py>=2.2.0->rich>=11.1->flax->brax==0.9.3) (0.1.2)\n",
            "Building wheels for collected packages: brax\n",
            "  Building wheel for brax (setup.py) ... \u001b[?25l\u001b[?25hdone\n",
            "  Created wheel for brax: filename=brax-0.9.3-py3-none-any.whl size=5901296 sha256=3962f89bd18737004b1d3ff5a3e1ca3a2d8f54a8781edc05c0a2d0e1793236c7\n",
            "  Stored in directory: /tmp/pip-ephem-wheel-cache-a2uw4s40/wheels/09/07/48/6a5c887510bc2134a3e0309a4d9e8b4d6ae712027103bed3ac\n",
            "Successfully built brax\n",
            "Installing collected packages: brax\n",
            "Successfully installed brax-0.9.3\n"
          ]
        },
        {
          "name": "stderr",
          "output_type": "stream",
          "text": [
            "/usr/local/lib/python3.10/dist-packages/chex/_src/pytypes.py:54: DeprecationWarning: jax.random.KeyArray is deprecated. Use jax.Array for annotations, and jax.dtypes.issubdtype(arr, jax.dtypes.prng_key) for runtime detection of typed prng keys.\n",
            "  PRNGKey = jax.random.KeyArray\n"
          ]
        }
      ],
      "source": [
        "#@markdown ## ⚠️ PLEASE NOTE:\n",
        "#@markdown This colab runs best using a GPU runtime.  From the Colab menu, choose Runtime > Change Runtime Type, then select **'GPU'** in the dropdown.\n",
        "\n",
        "import functools\n",
        "import jax\n",
        "import os\n",
        "\n",
        "from datetime import datetime\n",
        "from jax import numpy as jp\n",
        "import matplotlib.pyplot as plt\n",
        "\n",
        "from IPython.display import HTML, clear_output\n",
        "\n",
        "try:\n",
        "  !pip uninstall brax\n",
        "  !pip install git+https://github.com/izo0619/brax.git@mod_hopper\n",
        "  # !pip install git+https://github.com/google/brax.git@main\n",
        "  import brax\n",
        "  # clear_output()\n",
        "except ImportError:\n",
        "  #!pip install git+https://github.com/google/brax.git@main\n",
        "  !pip install git+https://github.com/izo0619/brax.git@three_legs\n",
        "  clear_output()\n",
        "  import brax\n",
        "\n",
        "import flax\n",
        "from brax import envs\n",
        "from brax.io import model\n",
        "from brax.io import json\n",
        "from brax.io import html\n",
        "from brax.training.agents.ppo import train as ppo\n",
        "from brax.training.agents.sac import train as sac\n",
        "\n",
        "if 'COLAB_TPU_ADDR' in os.environ:\n",
        "  from jax.tools import colab_tpu\n",
        "  colab_tpu.setup_tpu()"
      ]
    },
    {
      "cell_type": "code",
      "execution_count": 3,
      "metadata": {
        "colab": {
          "base_uri": "https://localhost:8080/",
          "height": 554
        },
        "id": "iULxm68XNRQp",
        "outputId": "3f76c567-cb53-430f-f3e4-07432174a6bc"
      },
      "outputs": [
        {
          "name": "stderr",
          "output_type": "stream",
          "text": [
            "/usr/local/lib/python3.10/dist-packages/ipykernel/ipkernel.py:283: DeprecationWarning: `should_run_async` will not call `transform_cell` automatically in the future. Please pass the result to `transformed_cell` argument and any exception that happen during thetransform in `preprocessing_exc_tuple` in IPython 7.17 and above.\n",
            "  and should_run_async(code)\n",
            "WARNING:jax._src.xla_bridge:No GPU/TPU found, falling back to CPU. (Set TF_CPP_MIN_LOG_LEVEL=0 and rerun for more info.)\n"
          ]
        },
        {
          "data": {
            "text/html": [
              "<!DOCTYPE html>\n",
              "<html>\n",
              "\n",
              "  <head>\n",
              "    <title>Brax visualizer</title>\n",
              "    <link rel=\"shortcut icon\" type=\"image/x-icon\" href=\"/favicon.ico\">\n",
              "  </head>\n",
              "\n",
              "  <style>\n",
              "    body {\n",
              "      margin: 0;\n",
              "      padding: 0;\n",
              "    }\n",
              "\n",
              "    #brax-viewer {\n",
              "      height: 480px;\n",
              "      margin: 0;\n",
              "      padding: 0;\n",
              "    }\n",
              "  </style>\n",
              "  <script async src=\"https://unpkg.com/es-module-shims@1.6.3/dist/es-module-shims.js\"></script>\n",
              "\n",
              "  <script type=\"importmap\">\n",
              "    {\n",
              "      \"imports\": {\n",
              "        \"three\": \"https://unpkg.com/three@0.150.1/build/three.module.js\",\n",
              "        \"three/addons/\": \"https://unpkg.com/three@0.150.1/examples/jsm/\",\n",
              "        \"lilgui\": \"https://cdn.jsdelivr.net/npm/lil-gui@0.18.0/+esm\",\n",
              "        \"viewer\": \"https://cdn.jsdelivr.net/gh/google/brax@v0.9.3/brax/visualizer/js/viewer.js\"\n",
              "      }\n",
              "    }\n",
              "  </script>\n",
              "\n",
              "  <script type=\"application/javascript\">\n",
              "  var system = {\"dt\": 0.009999999776482582, \"gravity\": [0.0, 0.0, -9.8100004196167], \"viscosity\": 0.0, \"density\": 0.0, \"link\": {\"transform\": {\"pos\": [[0.0, 0.0, 1.3224655389785767], [-0.5636210441589355, 0.0, -0.3749440610408783], [-0.2343519628047943, 0.0, 0.08942820131778717], [-0.28177276253700256, 0.0, 0.11697770655155182], [-0.0033544946927577257, 0.0, 0.16156867146492004], [-0.15903331339359283, 0.0, 0.06068677082657814], [-0.668462872505188, 0.0, -0.44468915462493896]], \"rot\": [[1.0, 0.0, 0.0, 0.0], [1.0, 0.0, 0.0, 0.0], [1.0, 0.0, 0.0, 0.0], [1.0, 0.0, 0.0, 0.0], [1.0, 0.0, 0.0, 0.0], [1.0, 0.0, 0.0, 0.0], [1.0, 0.0, 0.0, 0.0]], \"name\": \"Transform\"}, \"joint\": {\"pos\": [[0.0, 0.0, 0.0], [0.0, 0.0, 0.0], [0.0, 0.0, 0.0], [0.0, 0.0, 0.0], [0.0, 0.0, 0.0], [0.0, 0.0, 0.0], [0.0, 0.0, 0.0]], \"rot\": [[1.0, 0.0, 0.0, 0.0], [1.0, 0.0, 0.0, 0.0], [1.0, 0.0, 0.0, 0.0], [1.0, 0.0, 0.0, 0.0], [1.0, 0.0, 0.0, 0.0], [1.0, 0.0, 0.0, 0.0], [1.0, 0.0, 0.0, 0.0]], \"name\": \"Transform\"}, \"inertia\": {\"transform\": {\"pos\": [[-0.348792165517807, 0.0, -0.232030987739563], [-0.12250630557537079, 0.0, 0.046748142689466476], [-0.2732681334018707, 0.0, 0.11344701796770096], [-0.0025735520757734776, 0.0, 0.12395471334457397], [-0.13113097846508026, 0.0, 0.1063423603773117], [-0.10586273670196533, 0.0, 0.32501739263534546], [0.16772325336933136, 0.0, -0.3088882267475128]], \"rot\": [[0.8814415335655212, 0.0, 0.4722931385040283, 0.0], [0.5672204494476318, -0.0, 0.8235660195350647, 0.0], [0.5552383065223694, -0.0, 0.831691324710846, 0.0], [0.010379340499639511, -0.0, 0.999946117401123, 0.0], [0.43018993735313416, -0.0, 0.9027383923530579, 0.0], [0.15678921341896057, -0.0, 0.9876320958137512, 0.0], [0.9692276120185852, 0.0, -0.2461661845445633, 0.0]], \"name\": \"Transform\"}, \"i\": [[[1.0474982261657715, 0.0, 0.0], [0.0, 1.0474982261657715, 0.0], [0.0, 0.0, 0.033885203301906586]], [[0.02052561566233635, 0.0, 0.0], [0.0, 0.02052561566233635, 0.0], [0.0, 0.0, 0.0022597142960876226]], [[0.2628718316555023, 0.0, 0.0], [0.0, 0.2628718316555023, 0.0], [0.0, 0.0, 0.011033277027308941]], [[0.027200547978281975, 0.0, 0.0], [0.0, 0.027200547978281975, 0.0], [0.0, 0.0, 0.004012005869299173]], [[0.05895639583468437, 0.0, 0.0], [0.0, 0.05895639583468437, 0.0], [0.0, 0.0, 0.005770464427769184]], [[0.47894832491874695, 0.0, 0.0], [0.0, 0.47894832491874695, 0.0], [0.0, 0.0, 0.018414892256259918]], [[0.5807410478591919, 0.0, 0.0], [0.0, 0.5807410478591919, 0.0], [0.0, 0.0, 0.023206869140267372]]], \"mass\": [14.220338821411133, 2.1870813369750977, 6.884817600250244, 2.9046127796173096, 3.9322903156280518, 9.527945518493652, 10.862072944641113], \"name\": \"Inertia\"}, \"invweight\": [0.0271932240575552, 0.019224653020501137, 0.02871929481625557, 0.035283710807561874, 0.06717835366725922, 0.03341631963849068, 0.03357245773077011], \"constraint_stiffness\": [2000.0, 2000.0, 2000.0, 2000.0, 2000.0, 2000.0, 2000.0], \"constraint_vel_damping\": [0.0, 0.0, 0.0, 0.0, 0.0, 0.0, 0.0], \"constraint_limit_stiffness\": [1000.0, 1000.0, 1000.0, 1000.0, 1000.0, 1000.0, 1000.0], \"constraint_ang_damping\": [0.0, 0.0, 0.0, 0.0, 0.0, 0.0, 0.0], \"name\": \"Link\"}, \"dof\": {\"motion\": {\"ang\": [[0.0, 0.0, 0.0], [0.0, 0.0, 0.0], [0.0, 1.0, 0.0], [0.0, 1.0, 0.0], [0.0, 1.0, 0.0], [0.0, 1.0, 0.0], [0.0, 1.0, 0.0], [0.0, 1.0, 0.0], [0.0, 1.0, 0.0]], \"vel\": [[1.0, 0.0, 0.0], [0.0, 0.0, 1.0], [0.0, 0.0, 0.0], [0.0, 0.0, 0.0], [0.0, 0.0, 0.0], [0.0, 0.0, 0.0], [0.0, 0.0, 0.0], [0.0, 0.0, 0.0], [0.0, 0.0, 0.0]], \"name\": \"Motion\"}, \"armature\": [0.0, 0.0, 0.0, 0.20000000298023224, 0.20000000298023224, 0.20000000298023224, 0.20000000298023224, 0.20000000298023224, 0.20000000298023224], \"stiffness\": [0.0, 0.0, 0.0, 100.0, 100.0, 100.0, 100.0, 100.0, 100.0], \"damping\": [0.0, 0.0, 0.0, 3.5, 3.5, 3.5, 3.5, 3.5, 3.5], \"limit\": [[\"-inf\", \"-inf\", \"-inf\", -0.6991410851478577, -1.1502020359039307, -0.6947706341743469, -1.01327383518219, -0.5256651639938354, -1.1186496019363403], [\"inf\", \"inf\", \"inf\", 0.6991410851478577, 1.1502020359039307, 0.6947706341743469, 1.01327383518219, 0.5256651639938354, 1.1186496019363403]], \"invweight\": [0.08224216103553772, 0.14429979026317596, 0.41034284234046936, 1.2974967956542969, 2.0985107421875, 2.528240442276001, 3.6624081134796143, 1.5504993200302124, 0.9436664581298828], \"solver_params\": [[0.019999999552965164, 1.0, 0.8999999761581421, 0.949999988079071, 0.0010000000474974513, 0.5, 2.0], [0.019999999552965164, 1.0, 0.8999999761581421, 0.949999988079071, 0.0010000000474974513, 0.5, 2.0], [0.019999999552965164, 1.0, 0.8999999761581421, 0.949999988079071, 0.0010000000474974513, 0.5, 2.0], [0.019999999552965164, 1.0, 0.8999999761581421, 0.949999988079071, 0.0010000000474974513, 0.5, 2.0], [0.019999999552965164, 1.0, 0.8999999761581421, 0.949999988079071, 0.0010000000474974513, 0.5, 2.0], [0.019999999552965164, 1.0, 0.8999999761581421, 0.949999988079071, 0.0010000000474974513, 0.5, 2.0], [0.019999999552965164, 1.0, 0.8999999761581421, 0.949999988079071, 0.0010000000474974513, 0.5, 2.0], [0.019999999552965164, 1.0, 0.8999999761581421, 0.949999988079071, 0.0010000000474974513, 0.5, 2.0], [0.019999999552965164, 1.0, 0.8999999761581421, 0.949999988079071, 0.0010000000474974513, 0.5, 2.0]], \"name\": \"DoF\"}, \"geoms\": {\"world\": [{\"link_idx\": null, \"transform\": {\"pos\": [0.0, 0.0, 0.0], \"rot\": [1.0, 0.0, 0.0, 0.0], \"name\": \"Transform\"}, \"friction\": 1.0, \"elasticity\": 0.0, \"solver_params\": [0.019999999552965164, 1.0, 0.8999999761581421, 0.949999988079071, 0.0010000000474974513, 0.5, 2.0], \"rgba\": [1.0, 1.0, 1.0, 1.0], \"name\": \"Plane\"}], \"0/\": [{\"link_idx\": 0, \"transform\": {\"pos\": [-0.348792165517807, 0.0, -0.232030987739563], \"rot\": [0.8814415335655212, 0.0, 0.4722931385040283, 0.0], \"name\": \"Transform\"}, \"friction\": 0.6000000238418579, \"elasticity\": 0.0, \"solver_params\": [0.019999999552965164, 1.0, 0.8999999761581421, 0.949999988079071, 0.0010000000474974513, 0.5, 2.0], \"radius\": 0.06973440945148468, \"length\": 0.8378409147262573, \"rgba\": [0.7582719922065735, 0.44508716464042664, 0.3818972706794739, 1.0], \"name\": \"Capsule\"}], \"0/1/\": [{\"link_idx\": 1, \"transform\": {\"pos\": [-0.12250630557537079, 0.0, 0.046748142689466476], \"rot\": [0.5672204494476318, -0.0, 0.8235660195350647, 0.0], \"name\": \"Transform\"}, \"friction\": 0.6000000238418579, \"elasticity\": 0.0, \"solver_params\": [0.019999999552965164, 1.0, 0.8999999761581421, 0.949999988079071, 0.0010000000474974513, 0.5, 2.0], \"radius\": 0.04635046049952507, \"length\": 0.2622455656528473, \"rgba\": [0.8269218802452087, 0.7042361497879028, 0.29256924986839294, 1.0], \"name\": \"Capsule\"}], \"0/1/2/\": [{\"link_idx\": 2, \"transform\": {\"pos\": [-0.2732681334018707, 0.0, 0.11344701796770096], \"rot\": [0.5552383065223694, -0.0, 0.831691324710846, 0.0], \"name\": \"Transform\"}, \"friction\": 0.6000000238418579, \"elasticity\": 0.0, \"solver_params\": [0.019999999552965164, 1.0, 0.8999999761581421, 0.949999988079071, 0.0010000000474974513, 0.5, 2.0], \"radius\": 0.05727200582623482, \"length\": 0.5917624235153198, \"rgba\": [0.3569944500923157, 0.6564801931381226, 0.2626762390136719, 1.0], \"name\": \"Capsule\"}], \"0/1/2/3/\": [{\"link_idx\": 3, \"transform\": {\"pos\": [-0.0025735520757734776, 0.0, 0.12395471334457397], \"rot\": [0.010379340499639511, -0.0, 0.999946117401123, 0.0], \"name\": \"Transform\"}, \"friction\": 0.6000000238418579, \"elasticity\": 0.0, \"solver_params\": [0.019999999552965164, 1.0, 0.8999999761581421, 0.949999988079071, 0.0010000000474974513, 0.5, 2.0], \"radius\": 0.05377975106239319, \"length\": 0.2479628473520279, \"rgba\": [0.2129487544298172, 0.8119065761566162, 0.42029374837875366, 1.0], \"name\": \"Capsule\"}], \"0/1/2/3/4/\": [{\"link_idx\": 4, \"transform\": {\"pos\": [-0.13113097846508026, 0.0, 0.1063423603773117], \"rot\": [0.43018993735313416, -0.0, 0.9027383923530579, 0.0], \"name\": \"Transform\"}, \"friction\": 0.6000000238418579, \"elasticity\": 0.0, \"solver_params\": [0.019999999552965164, 1.0, 0.8999999761581421, 0.949999988079071, 0.0010000000474974513, 0.5, 2.0], \"radius\": 0.05517073720693588, \"length\": 0.3376627266407013, \"rgba\": [0.6007019281387329, 0.18234215676784515, 0.4858042001724243, 1.0], \"name\": \"Capsule\"}], \"0/1/5/\": [{\"link_idx\": 5, \"transform\": {\"pos\": [-0.10586273670196533, 0.0, 0.32501739263534546], \"rot\": [0.15678921341896057, -0.0, 0.9876320958137512, 0.0], \"name\": \"Transform\"}, \"friction\": 0.6000000238418579, \"elasticity\": 0.0, \"solver_params\": [0.019999999552965164, 1.0, 0.8999999761581421, 0.949999988079071, 0.0010000000474974513, 0.5, 2.0], \"radius\": 0.0628630742430687, \"length\": 0.6836467385292053, \"rgba\": [0.7416231036186218, 0.8862599730491638, 0.3058459460735321, 1.0], \"name\": \"Capsule\"}], \"0/6/\": [{\"link_idx\": 6, \"transform\": {\"pos\": [0.16772325336933136, 0.0, -0.3088882267475128], \"rot\": [0.9692276120185852, 0.0, -0.2461661845445633, 0.0], \"name\": \"Transform\"}, \"friction\": 0.6000000238418579, \"elasticity\": 0.0, \"solver_params\": [0.019999999552965164, 1.0, 0.8999999761581421, 0.949999988079071, 0.0010000000474974513, 0.5, 2.0], \"radius\": 0.06610898673534393, \"length\": 0.7029737234115601, \"rgba\": [0.2617012560367584, 0.08648508787155151, 0.4309215247631073, 1.0], \"name\": \"Capsule\"}]}, \"actuator\": {\"q_id\": [3, 4, 5, 6, 7, 8], \"qd_id\": [3, 4, 5, 6, 7, 8], \"ctrl_range\": [[-1.0, 1.0], [-1.0, 1.0], [-1.0, 1.0], [-1.0, 1.0], [-1.0, 1.0], [-1.0, 1.0]], \"force_range\": [[\"-inf\", \"inf\"], [\"-inf\", \"inf\"], [\"-inf\", \"inf\"], [\"-inf\", \"inf\"], [\"-inf\", \"inf\"], [\"-inf\", \"inf\"]], \"gain\": [1.0, 1.0, 1.0, 1.0, 1.0, 1.0], \"gear\": [68.0, 67.0, 84.0, 74.0, 88.0, 59.0], \"bias_q\": [0.0, 0.0, 0.0, 0.0, 0.0, 0.0], \"bias_qd\": [0.0, 0.0, 0.0, 0.0, 0.0, 0.0], \"name\": \"Actuator\"}, \"init_q\": [0.0, 0.0, 0.0, 0.0, 0.0, 0.0, 0.0, 0.0, 0.0], \"vel_damping\": 0.0, \"ang_damping\": 0.0, \"baumgarte_erp\": 0.10000000149011612, \"spring_mass_scale\": 0.0, \"spring_inertia_scale\": 0.0, \"joint_scale_ang\": 0.20000000298023224, \"joint_scale_pos\": 0.5, \"collide_scale\": 1.0, \"enable_fluid\": false, \"geom_masks\": [4294967297, 4294967297], \"link_names\": [\"0/\", \"0/1/\", \"0/1/2/\", \"0/1/2/3/\", \"0/1/2/3/4/\", \"0/1/5/\", \"0/6/\"], \"link_types\": \"3111111\", \"link_parents\": [-1, 0, 1, 2, 3, 1, 0], \"matrix_inv_iterations\": 10, \"solver_iterations\": 100, \"solver_maxls\": 20, \"name\": \"System\", \"states\": {\"x\": {\"pos\": [[[-0.028101300820708275, 0.0, 1.225757360458374], [-0.6175939440727234, 0.0, 0.8929657936096191], [-0.838169276714325, 0.0, 1.0124011039733887], [-1.1119797229766846, 0.0, 1.1469653844833374], [-1.105218768119812, 0.0, 1.308427333831787], [-0.7672783136367798, 0.0, 0.9740156531333923], [-0.7272483110427856, 0.0, 0.8310617804527283]]], \"rot\": [[[0.9993325471878052, 0.0, 0.03653103485703468, 0.0], [0.9978317618370056, 0.0, 0.06581710278987885, 0.0], [0.9994993805885315, 0.0, 0.03163835406303406, 0.0], [0.9995101094245911, 0.0, 0.031298696994781494, 0.0], [0.9999589920043945, 0.0, 0.009060600772500038, 0.0], [0.9966580271720886, 0.0, 0.08168704062700272, 0.0], [0.9989005923271179, 0.0, 0.046878617256879807, 0.0]]], \"name\": \"Transform\"}, \"contact\": null}};\n",
              "  </script>\n",
              "\n",
              "  <body>\n",
              "\n",
              "    <div id=\"brax-viewer\"></div>\n",
              "\n",
              "    <script type=\"module\">\n",
              "      import {Viewer} from 'viewer';\n",
              "      const domElement = document.getElementById(\"brax-viewer\");\n",
              "      var viewer = new Viewer(domElement, system);\n",
              "    </script>\n",
              "\n",
              "  </body>\n",
              "\n",
              "</html>"
            ],
            "text/plain": [
              "<IPython.core.display.HTML object>"
            ]
          },
          "execution_count": 3,
          "metadata": {},
          "output_type": "execute_result"
        }
      ],
      "source": [
        "#@title Load Env { run: \"auto\" }\n",
        "\n",
        "env_name = 'links'  # @param ['swimmer','links', 'ant', 'halfcheetah', 'hopper', 'humanoid', 'humanoidstandup', 'inverted_pendulum', 'inverted_double_pendulum', 'pusher', 'reacher', 'walker2d']\n",
        "backend = 'generalized'  # @param ['generalized', 'positional', 'spring']\n",
        "\n",
        "env = envs.get_environment(env_name=env_name,\n",
        "                           backend=backend)\n",
        "state = jax.jit(env.reset)(rng=jax.random.PRNGKey(seed=0))\n",
        "# print(state.pipeline_state)\n",
        "# print(env.sys.geoms)\n",
        "# print(html.render(env.sys, [state.pipeline_state]))\n",
        "HTML(html.render(env.sys, [state.pipeline_state]))"
      ]
    },
    {
      "cell_type": "code",
      "execution_count": 4,
      "metadata": {
        "colab": {
          "base_uri": "https://localhost:8080/",
          "height": 536
        },
        "id": "9Ab6UGLrSmts",
        "outputId": "e54f9db2-cf7d-4cda-bfc0-42c0ab91f1ba"
      },
      "outputs": [
        {
          "name": "stderr",
          "output_type": "stream",
          "text": [
            "/usr/local/lib/python3.10/dist-packages/ipykernel/ipkernel.py:283: DeprecationWarning: `should_run_async` will not call `transform_cell` automatically in the future. Please pass the result to `transformed_cell` argument and any exception that happen during thetransform in `preprocessing_exc_tuple` in IPython 7.17 and above.\n",
            "  and should_run_async(code)\n"
          ]
        },
        {
          "data": {
            "text/html": [
              "<!DOCTYPE html>\n",
              "<html>\n",
              "\n",
              "  <head>\n",
              "    <title>Brax visualizer</title>\n",
              "    <link rel=\"shortcut icon\" type=\"image/x-icon\" href=\"/favicon.ico\">\n",
              "  </head>\n",
              "\n",
              "  <style>\n",
              "    body {\n",
              "      margin: 0;\n",
              "      padding: 0;\n",
              "    }\n",
              "\n",
              "    #brax-viewer {\n",
              "      height: 480px;\n",
              "      margin: 0;\n",
              "      padding: 0;\n",
              "    }\n",
              "  </style>\n",
              "  <script async src=\"https://unpkg.com/es-module-shims@1.6.3/dist/es-module-shims.js\"></script>\n",
              "\n",
              "  <script type=\"importmap\">\n",
              "    {\n",
              "      \"imports\": {\n",
              "        \"three\": \"https://unpkg.com/three@0.150.1/build/three.module.js\",\n",
              "        \"three/addons/\": \"https://unpkg.com/three@0.150.1/examples/jsm/\",\n",
              "        \"lilgui\": \"https://cdn.jsdelivr.net/npm/lil-gui@0.18.0/+esm\",\n",
              "        \"viewer\": \"https://cdn.jsdelivr.net/gh/google/brax@v0.9.3/brax/visualizer/js/viewer.js\"\n",
              "      }\n",
              "    }\n",
              "  </script>\n",
              "\n",
              "  <script type=\"application/javascript\">\n",
              "  var system = {\"dt\": 0.009999999776482582, \"gravity\": [0.0, 0.0, -9.8100004196167], \"viscosity\": 0.0, \"density\": 0.0, \"link\": {\"transform\": {\"pos\": [[0.0, 0.0, 1.3224655389785767], [-0.5636210441589355, 0.0, -0.3749440610408783], [-0.2343519628047943, 0.0, 0.08942820131778717], [-0.28177276253700256, 0.0, 0.11697770655155182], [-0.0033544946927577257, 0.0, 0.16156867146492004], [-0.15903331339359283, 0.0, 0.06068677082657814], [-0.668462872505188, 0.0, -0.44468915462493896]], \"rot\": [[1.0, 0.0, 0.0, 0.0], [1.0, 0.0, 0.0, 0.0], [1.0, 0.0, 0.0, 0.0], [1.0, 0.0, 0.0, 0.0], [1.0, 0.0, 0.0, 0.0], [1.0, 0.0, 0.0, 0.0], [1.0, 0.0, 0.0, 0.0]], \"name\": \"Transform\"}, \"joint\": {\"pos\": [[0.0, 0.0, 0.0], [0.0, 0.0, 0.0], [0.0, 0.0, 0.0], [0.0, 0.0, 0.0], [0.0, 0.0, 0.0], [0.0, 0.0, 0.0], [0.0, 0.0, 0.0]], \"rot\": [[1.0, 0.0, 0.0, 0.0], [1.0, 0.0, 0.0, 0.0], [1.0, 0.0, 0.0, 0.0], [1.0, 0.0, 0.0, 0.0], [1.0, 0.0, 0.0, 0.0], [1.0, 0.0, 0.0, 0.0], [1.0, 0.0, 0.0, 0.0]], \"name\": \"Transform\"}, \"inertia\": {\"transform\": {\"pos\": [[-0.348792165517807, 0.0, -0.232030987739563], [-0.12250630557537079, 0.0, 0.046748142689466476], [-0.2732681334018707, 0.0, 0.11344701796770096], [-0.0025735520757734776, 0.0, 0.12395471334457397], [-0.13113097846508026, 0.0, 0.1063423603773117], [-0.10586273670196533, 0.0, 0.32501739263534546], [0.16772325336933136, 0.0, -0.3088882267475128]], \"rot\": [[0.8814415335655212, 0.0, 0.4722931385040283, 0.0], [0.5672204494476318, -0.0, 0.8235660195350647, 0.0], [0.5552383065223694, -0.0, 0.831691324710846, 0.0], [0.010379340499639511, -0.0, 0.999946117401123, 0.0], [0.43018993735313416, -0.0, 0.9027383923530579, 0.0], [0.15678921341896057, -0.0, 0.9876320958137512, 0.0], [0.9692276120185852, 0.0, -0.2461661845445633, 0.0]], \"name\": \"Transform\"}, \"i\": [[[1.0474982261657715, 0.0, 0.0], [0.0, 1.0474982261657715, 0.0], [0.0, 0.0, 0.033885203301906586]], [[0.02052561566233635, 0.0, 0.0], [0.0, 0.02052561566233635, 0.0], [0.0, 0.0, 0.0022597142960876226]], [[0.2628718316555023, 0.0, 0.0], [0.0, 0.2628718316555023, 0.0], [0.0, 0.0, 0.011033277027308941]], [[0.027200547978281975, 0.0, 0.0], [0.0, 0.027200547978281975, 0.0], [0.0, 0.0, 0.004012005869299173]], [[0.05895639583468437, 0.0, 0.0], [0.0, 0.05895639583468437, 0.0], [0.0, 0.0, 0.005770464427769184]], [[0.47894832491874695, 0.0, 0.0], [0.0, 0.47894832491874695, 0.0], [0.0, 0.0, 0.018414892256259918]], [[0.5807410478591919, 0.0, 0.0], [0.0, 0.5807410478591919, 0.0], [0.0, 0.0, 0.023206869140267372]]], \"mass\": [14.220338821411133, 2.1870813369750977, 6.884817600250244, 2.9046127796173096, 3.9322903156280518, 9.527945518493652, 10.862072944641113], \"name\": \"Inertia\"}, \"invweight\": [0.0271932240575552, 0.019224653020501137, 0.02871929481625557, 0.035283710807561874, 0.06717835366725922, 0.03341631963849068, 0.03357245773077011], \"constraint_stiffness\": [2000.0, 2000.0, 2000.0, 2000.0, 2000.0, 2000.0, 2000.0], \"constraint_vel_damping\": [0.0, 0.0, 0.0, 0.0, 0.0, 0.0, 0.0], \"constraint_limit_stiffness\": [1000.0, 1000.0, 1000.0, 1000.0, 1000.0, 1000.0, 1000.0], \"constraint_ang_damping\": [0.0, 0.0, 0.0, 0.0, 0.0, 0.0, 0.0], \"name\": \"Link\"}, \"dof\": {\"motion\": {\"ang\": [[0.0, 0.0, 0.0], [0.0, 0.0, 0.0], [0.0, 1.0, 0.0], [0.0, 1.0, 0.0], [0.0, 1.0, 0.0], [0.0, 1.0, 0.0], [0.0, 1.0, 0.0], [0.0, 1.0, 0.0], [0.0, 1.0, 0.0]], \"vel\": [[1.0, 0.0, 0.0], [0.0, 0.0, 1.0], [0.0, 0.0, 0.0], [0.0, 0.0, 0.0], [0.0, 0.0, 0.0], [0.0, 0.0, 0.0], [0.0, 0.0, 0.0], [0.0, 0.0, 0.0], [0.0, 0.0, 0.0]], \"name\": \"Motion\"}, \"armature\": [0.0, 0.0, 0.0, 0.20000000298023224, 0.20000000298023224, 0.20000000298023224, 0.20000000298023224, 0.20000000298023224, 0.20000000298023224], \"stiffness\": [0.0, 0.0, 0.0, 100.0, 100.0, 100.0, 100.0, 100.0, 100.0], \"damping\": [0.0, 0.0, 0.0, 3.5, 3.5, 3.5, 3.5, 3.5, 3.5], \"limit\": [[\"-inf\", \"-inf\", \"-inf\", -0.6991410851478577, -1.1502020359039307, -0.6947706341743469, -1.01327383518219, -0.5256651639938354, -1.1186496019363403], [\"inf\", \"inf\", \"inf\", 0.6991410851478577, 1.1502020359039307, 0.6947706341743469, 1.01327383518219, 0.5256651639938354, 1.1186496019363403]], \"invweight\": [0.08224216103553772, 0.14429979026317596, 0.41034284234046936, 1.2974967956542969, 2.0985107421875, 2.528240442276001, 3.6624081134796143, 1.5504993200302124, 0.9436664581298828], \"solver_params\": [[0.019999999552965164, 1.0, 0.8999999761581421, 0.949999988079071, 0.0010000000474974513, 0.5, 2.0], [0.019999999552965164, 1.0, 0.8999999761581421, 0.949999988079071, 0.0010000000474974513, 0.5, 2.0], [0.019999999552965164, 1.0, 0.8999999761581421, 0.949999988079071, 0.0010000000474974513, 0.5, 2.0], [0.019999999552965164, 1.0, 0.8999999761581421, 0.949999988079071, 0.0010000000474974513, 0.5, 2.0], [0.019999999552965164, 1.0, 0.8999999761581421, 0.949999988079071, 0.0010000000474974513, 0.5, 2.0], [0.019999999552965164, 1.0, 0.8999999761581421, 0.949999988079071, 0.0010000000474974513, 0.5, 2.0], [0.019999999552965164, 1.0, 0.8999999761581421, 0.949999988079071, 0.0010000000474974513, 0.5, 2.0], [0.019999999552965164, 1.0, 0.8999999761581421, 0.949999988079071, 0.0010000000474974513, 0.5, 2.0], [0.019999999552965164, 1.0, 0.8999999761581421, 0.949999988079071, 0.0010000000474974513, 0.5, 2.0]], \"name\": \"DoF\"}, \"geoms\": {\"world\": [{\"link_idx\": null, \"transform\": {\"pos\": [0.0, 0.0, 0.0], \"rot\": [1.0, 0.0, 0.0, 0.0], \"name\": \"Transform\"}, \"friction\": 1.0, \"elasticity\": 0.0, \"solver_params\": [0.019999999552965164, 1.0, 0.8999999761581421, 0.949999988079071, 0.0010000000474974513, 0.5, 2.0], \"rgba\": [1.0, 1.0, 1.0, 1.0], \"name\": \"Plane\"}], \"0/\": [{\"link_idx\": 0, \"transform\": {\"pos\": [-0.348792165517807, 0.0, -0.232030987739563], \"rot\": [0.8814415335655212, 0.0, 0.4722931385040283, 0.0], \"name\": \"Transform\"}, \"friction\": 0.6000000238418579, \"elasticity\": 0.0, \"solver_params\": [0.019999999552965164, 1.0, 0.8999999761581421, 0.949999988079071, 0.0010000000474974513, 0.5, 2.0], \"radius\": 0.06973440945148468, \"length\": 0.8378409147262573, \"rgba\": [0.7582719922065735, 0.44508716464042664, 0.3818972706794739, 1.0], \"name\": \"Capsule\"}], \"0/1/\": [{\"link_idx\": 1, \"transform\": {\"pos\": [-0.12250630557537079, 0.0, 0.046748142689466476], \"rot\": [0.5672204494476318, -0.0, 0.8235660195350647, 0.0], \"name\": \"Transform\"}, \"friction\": 0.6000000238418579, \"elasticity\": 0.0, \"solver_params\": [0.019999999552965164, 1.0, 0.8999999761581421, 0.949999988079071, 0.0010000000474974513, 0.5, 2.0], \"radius\": 0.04635046049952507, \"length\": 0.2622455656528473, \"rgba\": [0.8269218802452087, 0.7042361497879028, 0.29256924986839294, 1.0], \"name\": \"Capsule\"}], \"0/1/2/\": [{\"link_idx\": 2, \"transform\": {\"pos\": [-0.2732681334018707, 0.0, 0.11344701796770096], \"rot\": [0.5552383065223694, -0.0, 0.831691324710846, 0.0], \"name\": \"Transform\"}, \"friction\": 0.6000000238418579, \"elasticity\": 0.0, \"solver_params\": [0.019999999552965164, 1.0, 0.8999999761581421, 0.949999988079071, 0.0010000000474974513, 0.5, 2.0], \"radius\": 0.05727200582623482, \"length\": 0.5917624235153198, \"rgba\": [0.3569944500923157, 0.6564801931381226, 0.2626762390136719, 1.0], \"name\": \"Capsule\"}], \"0/1/2/3/\": [{\"link_idx\": 3, \"transform\": {\"pos\": [-0.0025735520757734776, 0.0, 0.12395471334457397], \"rot\": [0.010379340499639511, -0.0, 0.999946117401123, 0.0], \"name\": \"Transform\"}, \"friction\": 0.6000000238418579, \"elasticity\": 0.0, \"solver_params\": [0.019999999552965164, 1.0, 0.8999999761581421, 0.949999988079071, 0.0010000000474974513, 0.5, 2.0], \"radius\": 0.05377975106239319, \"length\": 0.2479628473520279, \"rgba\": [0.2129487544298172, 0.8119065761566162, 0.42029374837875366, 1.0], \"name\": \"Capsule\"}], \"0/1/2/3/4/\": [{\"link_idx\": 4, \"transform\": {\"pos\": [-0.13113097846508026, 0.0, 0.1063423603773117], \"rot\": [0.43018993735313416, -0.0, 0.9027383923530579, 0.0], \"name\": \"Transform\"}, \"friction\": 0.6000000238418579, \"elasticity\": 0.0, \"solver_params\": [0.019999999552965164, 1.0, 0.8999999761581421, 0.949999988079071, 0.0010000000474974513, 0.5, 2.0], \"radius\": 0.05517073720693588, \"length\": 0.3376627266407013, \"rgba\": [0.6007019281387329, 0.18234215676784515, 0.4858042001724243, 1.0], \"name\": \"Capsule\"}], \"0/1/5/\": [{\"link_idx\": 5, \"transform\": {\"pos\": [-0.10586273670196533, 0.0, 0.32501739263534546], \"rot\": [0.15678921341896057, -0.0, 0.9876320958137512, 0.0], \"name\": \"Transform\"}, \"friction\": 0.6000000238418579, \"elasticity\": 0.0, \"solver_params\": [0.019999999552965164, 1.0, 0.8999999761581421, 0.949999988079071, 0.0010000000474974513, 0.5, 2.0], \"radius\": 0.0628630742430687, \"length\": 0.6836467385292053, \"rgba\": [0.7416231036186218, 0.8862599730491638, 0.3058459460735321, 1.0], \"name\": \"Capsule\"}], \"0/6/\": [{\"link_idx\": 6, \"transform\": {\"pos\": [0.16772325336933136, 0.0, -0.3088882267475128], \"rot\": [0.9692276120185852, 0.0, -0.2461661845445633, 0.0], \"name\": \"Transform\"}, \"friction\": 0.6000000238418579, \"elasticity\": 0.0, \"solver_params\": [0.019999999552965164, 1.0, 0.8999999761581421, 0.949999988079071, 0.0010000000474974513, 0.5, 2.0], \"radius\": 0.06610898673534393, \"length\": 0.7029737234115601, \"rgba\": [0.2617012560367584, 0.08648508787155151, 0.4309215247631073, 1.0], \"name\": \"Capsule\"}]}, \"actuator\": {\"q_id\": [3, 4, 5, 6, 7, 8], \"qd_id\": [3, 4, 5, 6, 7, 8], \"ctrl_range\": [[-1.0, 1.0], [-1.0, 1.0], [-1.0, 1.0], [-1.0, 1.0], [-1.0, 1.0], [-1.0, 1.0]], \"force_range\": [[\"-inf\", \"inf\"], [\"-inf\", \"inf\"], [\"-inf\", \"inf\"], [\"-inf\", \"inf\"], [\"-inf\", \"inf\"], [\"-inf\", \"inf\"]], \"gain\": [1.0, 1.0, 1.0, 1.0, 1.0, 1.0], \"gear\": [68.0, 67.0, 84.0, 74.0, 88.0, 59.0], \"bias_q\": [0.0, 0.0, 0.0, 0.0, 0.0, 0.0], \"bias_qd\": [0.0, 0.0, 0.0, 0.0, 0.0, 0.0], \"name\": \"Actuator\"}, \"init_q\": [0.0, 0.0, 0.0, 0.0, 0.0, 0.0, 0.0, 0.0, 0.0], \"vel_damping\": 0.0, \"ang_damping\": 0.0, \"baumgarte_erp\": 0.10000000149011612, \"spring_mass_scale\": 0.0, \"spring_inertia_scale\": 0.0, \"joint_scale_ang\": 0.20000000298023224, \"joint_scale_pos\": 0.5, \"collide_scale\": 1.0, \"enable_fluid\": false, \"geom_masks\": [4294967297, 4294967297], \"link_names\": [\"0/\", \"0/1/\", \"0/1/2/\", \"0/1/2/3/\", \"0/1/2/3/4/\", \"0/1/5/\", \"0/6/\"], \"link_types\": \"3111111\", \"link_parents\": [-1, 0, 1, 2, 3, 1, 0], \"matrix_inv_iterations\": 10, \"solver_iterations\": 100, \"solver_maxls\": 20, \"name\": \"System\", \"states\": {\"x\": {\"pos\": [[[-0.028101300820708275, 0.0, 1.225757360458374], [-0.6175939440727234, 0.0, 0.8929657936096191], [-0.838169276714325, 0.0, 1.0124011039733887], [-1.1119797229766846, 0.0, 1.1469653844833374], [-1.105218768119812, 0.0, 1.308427333831787], [-0.7672783136367798, 0.0, 0.9740156531333923], [-0.7272483110427856, 0.0, 0.8310617804527283]]], \"rot\": [[[0.9993325471878052, 0.0, 0.03653103485703468, 0.0], [0.9978317618370056, 0.0, 0.06581710278987885, 0.0], [0.9994993805885315, 0.0, 0.03163835406303406, 0.0], [0.9995101094245911, 0.0, 0.031298696994781494, 0.0], [0.9999589920043945, 0.0, 0.009060600772500038, 0.0], [0.9966580271720886, 0.0, 0.08168704062700272, 0.0], [0.9989005923271179, 0.0, 0.046878617256879807, 0.0]]], \"name\": \"Transform\"}, \"contact\": null}};\n",
              "  </script>\n",
              "\n",
              "  <body>\n",
              "\n",
              "    <div id=\"brax-viewer\"></div>\n",
              "\n",
              "    <script type=\"module\">\n",
              "      import {Viewer} from 'viewer';\n",
              "      const domElement = document.getElementById(\"brax-viewer\");\n",
              "      var viewer = new Viewer(domElement, system);\n",
              "    </script>\n",
              "\n",
              "  </body>\n",
              "\n",
              "</html>"
            ],
            "text/plain": [
              "<IPython.core.display.HTML object>"
            ]
          },
          "execution_count": 4,
          "metadata": {},
          "output_type": "execute_result"
        }
      ],
      "source": [
        "# print(env.sys.geoms)\n",
        "state = jax.jit(env.reset)(rng=jax.random.PRNGKey(seed=0))\n",
        "# print(state.pipeline_state)\n",
        "# state = jax.jit(env.step)(state=state, action=jp.array([3]))\n",
        "# print(state.pipeline_state)\n",
        "# print(state.pipeline_state)\n",
        "HTML(html.render(env.sys, [state.pipeline_state]))"
      ]
    },
    {
      "cell_type": "code",
      "execution_count": 5,
      "metadata": {
        "colab": {
          "base_uri": "https://localhost:8080/",
          "height": 480
        },
        "id": "14yq7QZ6L7Bz",
        "outputId": "d7e73b3d-e1c9-4afa-8688-cb22d7cec14e"
      },
      "outputs": [
        {
          "data": {
            "text/html": [
              "<!DOCTYPE html>\n",
              "<html>\n",
              "\n",
              "  <head>\n",
              "    <title>Brax visualizer</title>\n",
              "    <link rel=\"shortcut icon\" type=\"image/x-icon\" href=\"/favicon.ico\">\n",
              "  </head>\n",
              "\n",
              "  <style>\n",
              "    body {\n",
              "      margin: 0;\n",
              "      padding: 0;\n",
              "    }\n",
              "\n",
              "    #brax-viewer {\n",
              "      height: 480px;\n",
              "      margin: 0;\n",
              "      padding: 0;\n",
              "    }\n",
              "  </style>\n",
              "  <script async src=\"https://unpkg.com/es-module-shims@1.6.3/dist/es-module-shims.js\"></script>\n",
              "\n",
              "  <script type=\"importmap\">\n",
              "    {\n",
              "      \"imports\": {\n",
              "        \"three\": \"https://unpkg.com/three@0.150.1/build/three.module.js\",\n",
              "        \"three/addons/\": \"https://unpkg.com/three@0.150.1/examples/jsm/\",\n",
              "        \"lilgui\": \"https://cdn.jsdelivr.net/npm/lil-gui@0.18.0/+esm\",\n",
              "        \"viewer\": \"https://cdn.jsdelivr.net/gh/google/brax@v0.9.3/brax/visualizer/js/viewer.js\"\n",
              "      }\n",
              "    }\n",
              "  </script>\n",
              "\n",
              "  <script type=\"application/javascript\">\n",
              "  var system = {\"dt\": 0.009999999776482582, \"gravity\": [0.0, 0.0, -9.8100004196167], \"viscosity\": 0.0, \"density\": 0.0, \"link\": {\"transform\": {\"pos\": [[0.0, 0.0, 1.3224655389785767], [-0.5636210441589355, 0.0, -0.3749440610408783], [-0.2343519628047943, 0.0, 0.08942820131778717], [-0.28177276253700256, 0.0, 0.11697770655155182], [-0.0033544946927577257, 0.0, 0.16156867146492004], [-0.15903331339359283, 0.0, 0.06068677082657814], [-0.668462872505188, 0.0, -0.44468915462493896]], \"rot\": [[1.0, 0.0, 0.0, 0.0], [1.0, 0.0, 0.0, 0.0], [1.0, 0.0, 0.0, 0.0], [1.0, 0.0, 0.0, 0.0], [1.0, 0.0, 0.0, 0.0], [1.0, 0.0, 0.0, 0.0], [1.0, 0.0, 0.0, 0.0]], \"name\": \"Transform\"}, \"joint\": {\"pos\": [[0.0, 0.0, 0.0], [0.0, 0.0, 0.0], [0.0, 0.0, 0.0], [0.0, 0.0, 0.0], [0.0, 0.0, 0.0], [0.0, 0.0, 0.0], [0.0, 0.0, 0.0]], \"rot\": [[1.0, 0.0, 0.0, 0.0], [1.0, 0.0, 0.0, 0.0], [1.0, 0.0, 0.0, 0.0], [1.0, 0.0, 0.0, 0.0], [1.0, 0.0, 0.0, 0.0], [1.0, 0.0, 0.0, 0.0], [1.0, 0.0, 0.0, 0.0]], \"name\": \"Transform\"}, \"inertia\": {\"transform\": {\"pos\": [[-0.348792165517807, 0.0, -0.232030987739563], [-0.12250630557537079, 0.0, 0.046748142689466476], [-0.2732681334018707, 0.0, 0.11344701796770096], [-0.0025735520757734776, 0.0, 0.12395471334457397], [-0.13113097846508026, 0.0, 0.1063423603773117], [-0.10586273670196533, 0.0, 0.32501739263534546], [0.16772325336933136, 0.0, -0.3088882267475128]], \"rot\": [[0.8814415335655212, 0.0, 0.4722931385040283, 0.0], [0.5672204494476318, -0.0, 0.8235660195350647, 0.0], [0.5552383065223694, -0.0, 0.831691324710846, 0.0], [0.010379340499639511, -0.0, 0.999946117401123, 0.0], [0.43018993735313416, -0.0, 0.9027383923530579, 0.0], [0.15678921341896057, -0.0, 0.9876320958137512, 0.0], [0.9692276120185852, 0.0, -0.2461661845445633, 0.0]], \"name\": \"Transform\"}, \"i\": [[[1.0474982261657715, 0.0, 0.0], [0.0, 1.0474982261657715, 0.0], [0.0, 0.0, 0.033885203301906586]], [[0.02052561566233635, 0.0, 0.0], [0.0, 0.02052561566233635, 0.0], [0.0, 0.0, 0.0022597142960876226]], [[0.2628718316555023, 0.0, 0.0], [0.0, 0.2628718316555023, 0.0], [0.0, 0.0, 0.011033277027308941]], [[0.027200547978281975, 0.0, 0.0], [0.0, 0.027200547978281975, 0.0], [0.0, 0.0, 0.004012005869299173]], [[0.05895639583468437, 0.0, 0.0], [0.0, 0.05895639583468437, 0.0], [0.0, 0.0, 0.005770464427769184]], [[0.47894832491874695, 0.0, 0.0], [0.0, 0.47894832491874695, 0.0], [0.0, 0.0, 0.018414892256259918]], [[0.5807410478591919, 0.0, 0.0], [0.0, 0.5807410478591919, 0.0], [0.0, 0.0, 0.023206869140267372]]], \"mass\": [14.220338821411133, 2.1870813369750977, 6.884817600250244, 2.9046127796173096, 3.9322903156280518, 9.527945518493652, 10.862072944641113], \"name\": \"Inertia\"}, \"invweight\": [0.0271932240575552, 0.019224653020501137, 0.02871929481625557, 0.035283710807561874, 0.06717835366725922, 0.03341631963849068, 0.03357245773077011], \"constraint_stiffness\": [2000.0, 2000.0, 2000.0, 2000.0, 2000.0, 2000.0, 2000.0], \"constraint_vel_damping\": [0.0, 0.0, 0.0, 0.0, 0.0, 0.0, 0.0], \"constraint_limit_stiffness\": [1000.0, 1000.0, 1000.0, 1000.0, 1000.0, 1000.0, 1000.0], \"constraint_ang_damping\": [0.0, 0.0, 0.0, 0.0, 0.0, 0.0, 0.0], \"name\": \"Link\"}, \"dof\": {\"motion\": {\"ang\": [[0.0, 0.0, 0.0], [0.0, 0.0, 0.0], [0.0, 1.0, 0.0], [0.0, 1.0, 0.0], [0.0, 1.0, 0.0], [0.0, 1.0, 0.0], [0.0, 1.0, 0.0], [0.0, 1.0, 0.0], [0.0, 1.0, 0.0]], \"vel\": [[1.0, 0.0, 0.0], [0.0, 0.0, 1.0], [0.0, 0.0, 0.0], [0.0, 0.0, 0.0], [0.0, 0.0, 0.0], [0.0, 0.0, 0.0], [0.0, 0.0, 0.0], [0.0, 0.0, 0.0], [0.0, 0.0, 0.0]], \"name\": \"Motion\"}, \"armature\": [0.0, 0.0, 0.0, 0.20000000298023224, 0.20000000298023224, 0.20000000298023224, 0.20000000298023224, 0.20000000298023224, 0.20000000298023224], \"stiffness\": [0.0, 0.0, 0.0, 100.0, 100.0, 100.0, 100.0, 100.0, 100.0], \"damping\": [0.0, 0.0, 0.0, 3.5, 3.5, 3.5, 3.5, 3.5, 3.5], \"limit\": [[\"-inf\", \"-inf\", \"-inf\", -0.6991410851478577, -1.1502020359039307, -0.6947706341743469, -1.01327383518219, -0.5256651639938354, -1.1186496019363403], [\"inf\", \"inf\", \"inf\", 0.6991410851478577, 1.1502020359039307, 0.6947706341743469, 1.01327383518219, 0.5256651639938354, 1.1186496019363403]], \"invweight\": [0.08224216103553772, 0.14429979026317596, 0.41034284234046936, 1.2974967956542969, 2.0985107421875, 2.528240442276001, 3.6624081134796143, 1.5504993200302124, 0.9436664581298828], \"solver_params\": [[0.019999999552965164, 1.0, 0.8999999761581421, 0.949999988079071, 0.0010000000474974513, 0.5, 2.0], [0.019999999552965164, 1.0, 0.8999999761581421, 0.949999988079071, 0.0010000000474974513, 0.5, 2.0], [0.019999999552965164, 1.0, 0.8999999761581421, 0.949999988079071, 0.0010000000474974513, 0.5, 2.0], [0.019999999552965164, 1.0, 0.8999999761581421, 0.949999988079071, 0.0010000000474974513, 0.5, 2.0], [0.019999999552965164, 1.0, 0.8999999761581421, 0.949999988079071, 0.0010000000474974513, 0.5, 2.0], [0.019999999552965164, 1.0, 0.8999999761581421, 0.949999988079071, 0.0010000000474974513, 0.5, 2.0], [0.019999999552965164, 1.0, 0.8999999761581421, 0.949999988079071, 0.0010000000474974513, 0.5, 2.0], [0.019999999552965164, 1.0, 0.8999999761581421, 0.949999988079071, 0.0010000000474974513, 0.5, 2.0], [0.019999999552965164, 1.0, 0.8999999761581421, 0.949999988079071, 0.0010000000474974513, 0.5, 2.0]], \"name\": \"DoF\"}, \"geoms\": {\"world\": [{\"link_idx\": null, \"transform\": {\"pos\": [0.0, 0.0, 0.0], \"rot\": [1.0, 0.0, 0.0, 0.0], \"name\": \"Transform\"}, \"friction\": 1.0, \"elasticity\": 0.0, \"solver_params\": [0.019999999552965164, 1.0, 0.8999999761581421, 0.949999988079071, 0.0010000000474974513, 0.5, 2.0], \"rgba\": [1.0, 1.0, 1.0, 1.0], \"name\": \"Plane\"}], \"0/\": [{\"link_idx\": 0, \"transform\": {\"pos\": [-0.348792165517807, 0.0, -0.232030987739563], \"rot\": [0.8814415335655212, 0.0, 0.4722931385040283, 0.0], \"name\": \"Transform\"}, \"friction\": 0.6000000238418579, \"elasticity\": 0.0, \"solver_params\": [0.019999999552965164, 1.0, 0.8999999761581421, 0.949999988079071, 0.0010000000474974513, 0.5, 2.0], \"radius\": 0.06973440945148468, \"length\": 0.8378409147262573, \"rgba\": [0.7582719922065735, 0.44508716464042664, 0.3818972706794739, 1.0], \"name\": \"Capsule\"}], \"0/1/\": [{\"link_idx\": 1, \"transform\": {\"pos\": [-0.12250630557537079, 0.0, 0.046748142689466476], \"rot\": [0.5672204494476318, -0.0, 0.8235660195350647, 0.0], \"name\": \"Transform\"}, \"friction\": 0.6000000238418579, \"elasticity\": 0.0, \"solver_params\": [0.019999999552965164, 1.0, 0.8999999761581421, 0.949999988079071, 0.0010000000474974513, 0.5, 2.0], \"radius\": 0.04635046049952507, \"length\": 0.2622455656528473, \"rgba\": [0.8269218802452087, 0.7042361497879028, 0.29256924986839294, 1.0], \"name\": \"Capsule\"}], \"0/1/2/\": [{\"link_idx\": 2, \"transform\": {\"pos\": [-0.2732681334018707, 0.0, 0.11344701796770096], \"rot\": [0.5552383065223694, -0.0, 0.831691324710846, 0.0], \"name\": \"Transform\"}, \"friction\": 0.6000000238418579, \"elasticity\": 0.0, \"solver_params\": [0.019999999552965164, 1.0, 0.8999999761581421, 0.949999988079071, 0.0010000000474974513, 0.5, 2.0], \"radius\": 0.05727200582623482, \"length\": 0.5917624235153198, \"rgba\": [0.3569944500923157, 0.6564801931381226, 0.2626762390136719, 1.0], \"name\": \"Capsule\"}], \"0/1/2/3/\": [{\"link_idx\": 3, \"transform\": {\"pos\": [-0.0025735520757734776, 0.0, 0.12395471334457397], \"rot\": [0.010379340499639511, -0.0, 0.999946117401123, 0.0], \"name\": \"Transform\"}, \"friction\": 0.6000000238418579, \"elasticity\": 0.0, \"solver_params\": [0.019999999552965164, 1.0, 0.8999999761581421, 0.949999988079071, 0.0010000000474974513, 0.5, 2.0], \"radius\": 0.05377975106239319, \"length\": 0.2479628473520279, \"rgba\": [0.2129487544298172, 0.8119065761566162, 0.42029374837875366, 1.0], \"name\": \"Capsule\"}], \"0/1/2/3/4/\": [{\"link_idx\": 4, \"transform\": {\"pos\": [-0.13113097846508026, 0.0, 0.1063423603773117], \"rot\": [0.43018993735313416, -0.0, 0.9027383923530579, 0.0], \"name\": \"Transform\"}, \"friction\": 0.6000000238418579, \"elasticity\": 0.0, \"solver_params\": [0.019999999552965164, 1.0, 0.8999999761581421, 0.949999988079071, 0.0010000000474974513, 0.5, 2.0], \"radius\": 0.05517073720693588, \"length\": 0.3376627266407013, \"rgba\": [0.6007019281387329, 0.18234215676784515, 0.4858042001724243, 1.0], \"name\": \"Capsule\"}], \"0/1/5/\": [{\"link_idx\": 5, \"transform\": {\"pos\": [-0.10586273670196533, 0.0, 0.32501739263534546], \"rot\": [0.15678921341896057, -0.0, 0.9876320958137512, 0.0], \"name\": \"Transform\"}, \"friction\": 0.6000000238418579, \"elasticity\": 0.0, \"solver_params\": [0.019999999552965164, 1.0, 0.8999999761581421, 0.949999988079071, 0.0010000000474974513, 0.5, 2.0], \"radius\": 0.0628630742430687, \"length\": 0.6836467385292053, \"rgba\": [0.7416231036186218, 0.8862599730491638, 0.3058459460735321, 1.0], \"name\": \"Capsule\"}], \"0/6/\": [{\"link_idx\": 6, \"transform\": {\"pos\": [0.16772325336933136, 0.0, -0.3088882267475128], \"rot\": [0.9692276120185852, 0.0, -0.2461661845445633, 0.0], \"name\": \"Transform\"}, \"friction\": 0.6000000238418579, \"elasticity\": 0.0, \"solver_params\": [0.019999999552965164, 1.0, 0.8999999761581421, 0.949999988079071, 0.0010000000474974513, 0.5, 2.0], \"radius\": 0.06610898673534393, \"length\": 0.7029737234115601, \"rgba\": [0.2617012560367584, 0.08648508787155151, 0.4309215247631073, 1.0], \"name\": \"Capsule\"}]}, \"actuator\": {\"q_id\": [3, 4, 5, 6, 7, 8], \"qd_id\": [3, 4, 5, 6, 7, 8], \"ctrl_range\": [[-1.0, 1.0], [-1.0, 1.0], [-1.0, 1.0], [-1.0, 1.0], [-1.0, 1.0], [-1.0, 1.0]], \"force_range\": [[\"-inf\", \"inf\"], [\"-inf\", \"inf\"], [\"-inf\", \"inf\"], [\"-inf\", \"inf\"], [\"-inf\", \"inf\"], [\"-inf\", \"inf\"]], \"gain\": [1.0, 1.0, 1.0, 1.0, 1.0, 1.0], \"gear\": [68.0, 67.0, 84.0, 74.0, 88.0, 59.0], \"bias_q\": [0.0, 0.0, 0.0, 0.0, 0.0, 0.0], \"bias_qd\": [0.0, 0.0, 0.0, 0.0, 0.0, 0.0], \"name\": \"Actuator\"}, \"init_q\": [0.0, 0.0, 0.0, 0.0, 0.0, 0.0, 0.0, 0.0, 0.0], \"vel_damping\": 0.0, \"ang_damping\": 0.0, \"baumgarte_erp\": 0.10000000149011612, \"spring_mass_scale\": 0.0, \"spring_inertia_scale\": 0.0, \"joint_scale_ang\": 0.20000000298023224, \"joint_scale_pos\": 0.5, \"collide_scale\": 1.0, \"enable_fluid\": false, \"geom_masks\": [4294967297, 4294967297], \"link_names\": [\"0/\", \"0/1/\", \"0/1/2/\", \"0/1/2/3/\", \"0/1/2/3/4/\", \"0/1/5/\", \"0/6/\"], \"link_types\": \"3111111\", \"link_parents\": [-1, 0, 1, 2, 3, 1, 0], \"matrix_inv_iterations\": 10, \"solver_iterations\": 100, \"solver_maxls\": 20, \"name\": \"System\", \"states\": {\"x\": {\"pos\": [[[-0.33875614404678345, 0.0, 1.5271191596984863], [-0.6479770541191101, 0.0, 0.9249280095100403], [-0.889779806137085, 0.0, 0.8582224249839783], [-1.1411319971084595, 0.0, 1.0311436653137207], [-1.0295681953430176, 0.0, 1.1480591297149658], [-0.8120664954185486, 0.0, 0.8796610236167908], [-0.7054966688156128, 0.0, 0.8129115700721741]]], \"rot\": [[[0.9677392244338989, 0.0, -0.2519538998603821, 0.0], [0.9502192139625549, 0.0, -0.31158220767974854, 0.0], [0.9945393800735474, 0.0, 0.1043621376156807, 0.0], [0.9243876338005066, 0.0, 0.3814544975757599, 0.0], [0.8588302731513977, 0.0, 0.512260377407074, 0.0], [0.9932316541671753, 0.0, 0.11615011841058731, 0.0], [0.993070662021637, 0.0, -0.11751918494701385, 0.0]]], \"name\": \"Transform\"}, \"contact\": null}};\n",
              "  </script>\n",
              "\n",
              "  <body>\n",
              "\n",
              "    <div id=\"brax-viewer\"></div>\n",
              "\n",
              "    <script type=\"module\">\n",
              "      import {Viewer} from 'viewer';\n",
              "      const domElement = document.getElementById(\"brax-viewer\");\n",
              "      var viewer = new Viewer(domElement, system);\n",
              "    </script>\n",
              "\n",
              "  </body>\n",
              "\n",
              "</html>"
            ],
            "text/plain": [
              "<IPython.core.display.HTML object>"
            ]
          },
          "execution_count": 5,
          "metadata": {},
          "output_type": "execute_result"
        }
      ],
      "source": [
        "for i in range(3):\n",
        "  state = jax.jit(env.step)(state=state, action=jp.array([3]))\n",
        "# print(state.pipeline_state)\n",
        "HTML(html.render(env.sys, [state.pipeline_state]))"
      ]
    },
    {
      "cell_type": "code",
      "execution_count": null,
      "metadata": {
        "colab": {
          "base_uri": "https://localhost:8080/",
          "height": 473
        },
        "id": "MddyYDYeiCBP",
        "outputId": "dc12a57d-5f13-4156-9c0a-659a7711e103"
      },
      "outputs": [
        {
          "name": "stdout",
          "output_type": "stream",
          "text": [
            "on step 2\n"
          ]
        },
        {
          "data": {
            "image/png": "[encoded data removed]",
            "text/plain": [
              "<Figure size 640x480 with 1 Axes>"
            ]
          },
          "metadata": {},
          "output_type": "display_data"
        }
      ],
      "source": [
        "train_fn = {\n",
        "  'inverted_pendulum': functools.partial(ppo.train, num_timesteps=2_000_000, num_evals=20, reward_scaling=10, episode_length=1000, normalize_observations=True, action_repeat=1, unroll_length=5, num_minibatches=32, num_updates_per_batch=4, discounting=0.97, learning_rate=3e-4, entropy_cost=1e-2, num_envs=2048, batch_size=1024, seed=1),\n",
        "  'inverted_double_pendulum': functools.partial(ppo.train, num_timesteps=20_000_000, num_evals=20, reward_scaling=10, episode_length=1000, normalize_observations=True, action_repeat=1, unroll_length=5, num_minibatches=32, num_updates_per_batch=4, discounting=0.97, learning_rate=3e-4, entropy_cost=1e-2, num_envs=2048, batch_size=1024, seed=1),\n",
        "  'ant': functools.partial(ppo.train,  num_timesteps=50_000, num_evals=10, reward_scaling=10, episode_length=1000, normalize_observations=True, action_repeat=1, unroll_length=5, num_minibatches=32, num_updates_per_batch=4, discounting=0.97, learning_rate=3e-4, entropy_cost=1e-2, num_envs=4096, batch_size=2048, seed=1),\n",
        "  'humanoid': functools.partial(ppo.train,  num_timesteps=50_000_000, num_evals=10, reward_scaling=0.1, episode_length=1000, normalize_observations=True, action_repeat=1, unroll_length=10, num_minibatches=32, num_updates_per_batch=8, discounting=0.97, learning_rate=3e-4, entropy_cost=1e-3, num_envs=2048, batch_size=1024, seed=1),\n",
        "  'reacher': functools.partial(ppo.train, num_timesteps=50_000_000, num_evals=20, reward_scaling=5, episode_length=1000, normalize_observations=True, action_repeat=4, unroll_length=50, num_minibatches=32, num_updates_per_batch=8, discounting=0.95, learning_rate=3e-4, entropy_cost=1e-3, num_envs=2048, batch_size=256, max_devices_per_host=8, seed=1),\n",
        "  'humanoidstandup': functools.partial(ppo.train, num_timesteps=100_000_000, num_evals=20, reward_scaling=0.1, episode_length=1000, normalize_observations=True, action_repeat=1, unroll_length=15, num_minibatches=32, num_updates_per_batch=8, discounting=0.97, learning_rate=6e-4, entropy_cost=1e-2, num_envs=2048, batch_size=1024, seed=1),\n",
        "  'hopper': functools.partial(sac.train, num_timesteps=6_553_600, num_evals=20, reward_scaling=30, episode_length=1000, normalize_observations=True, action_repeat=1, discounting=0.997, learning_rate=6e-4, num_envs=128, batch_size=512, grad_updates_per_step=64, max_devices_per_host=1, max_replay_size=1048576, min_replay_size=8192, seed=1),\n",
        "  'walker2d': functools.partial(sac.train, num_timesteps=7_864_320, num_evals=20, reward_scaling=5, episode_length=1000, normalize_observations=True, action_repeat=1, discounting=0.997, learning_rate=6e-4, num_envs=128, batch_size=128, grad_updates_per_step=32, max_devices_per_host=1, max_replay_size=1048576, min_replay_size=8192, seed=1),\n",
        "  'halfcheetah': functools.partial(ppo.train, num_timesteps=50_000_000, num_evals=20, reward_scaling=1, episode_length=1000, normalize_observations=True, action_repeat=1, unroll_length=20, num_minibatches=32, num_updates_per_batch=8, discounting=0.95, learning_rate=3e-4, entropy_cost=0.001, num_envs=2048, batch_size=512, seed=3),\n",
        "  'pusher': functools.partial(ppo.train, num_timesteps=50_000_000, num_evals=20, reward_scaling=5, episode_length=1000, normalize_observations=True, action_repeat=1, unroll_length=30, num_minibatches=16, num_updates_per_batch=8, discounting=0.95, learning_rate=3e-4,entropy_cost=1e-2, num_envs=2048, batch_size=512, seed=3),\n",
        "  'links': functools.partial(sac.train, num_timesteps=10_000, num_evals=20, reward_scaling=30, episode_length=100, normalize_observations=True, action_repeat=1, discounting=0.997, learning_rate=6e-4, num_envs=128, batch_size=512, grad_updates_per_step=64, max_devices_per_host=1, max_replay_size=1048576, min_replay_size=8192, seed=1),\n",
        "}[env_name]\n",
        "\n",
        "\n",
        "max_y = {'links': 1000, 'ant': 1000, 'halfcheetah': 8000, 'hopper': 2500, 'humanoid': 13000, 'humanoidstandup': 75_000, 'reacher': 5, 'walker2d': 5000, 'pusher': 0}[env_name]\n",
        "min_y = {'reacher': -100, 'pusher': -150}.get(env_name, 0)\n",
        "\n",
        "xdata, ydata = [], []\n",
        "times = [datetime.now()]\n",
        "counter = 0\n",
        "\n",
        "def progress(num_steps, metrics):\n",
        "  times.append(datetime.now())\n",
        "  xdata.append(num_steps)\n",
        "  ydata.append(metrics['eval/episode_reward'])\n",
        "  clear_output(wait=True)\n",
        "  print(f\"on step {len(times)}\")\n",
        "  # counter += 1\n",
        "  plt.xlim([0, train_fn.keywords['num_timesteps']])\n",
        "  plt.ylim([min_y, max_y])\n",
        "  plt.xlabel('# environment steps')\n",
        "  plt.ylabel('reward per episode')\n",
        "  plt.plot(xdata, ydata)\n",
        "  plt.show()\n",
        "\n",
        "make_inference_fn, params, _ = train_fn(environment=env, progress_fn=progress)\n",
        "\n",
        "print(f'time to jit: {times[1] - times[0]}')\n",
        "print(f'time to train: {times[-1] - times[1]}')"
      ]
    },
    {
      "cell_type": "code",
      "execution_count": null,
      "metadata": {
        "id": "WJxjyrWbiJG2"
      },
      "outputs": [],
      "source": [
        "model.save_params('/tmp/params', params)\n",
        "params = model.load_params('/tmp/params')\n",
        "inference_fn = make_inference_fn(params)"
      ]
    },
    {
      "cell_type": "code",
      "execution_count": null,
      "metadata": {
        "id": "WHVp6VwaiJ5S"
      },
      "outputs": [],
      "source": [
        "#@title Visualizing a trajectory of the learned inference function\n",
        "\n",
        "# create an env with auto-reset\n",
        "env = envs.create(env_name=env_name, backend=backend)\n",
        "\n",
        "jit_env_reset = jax.jit(env.reset)\n",
        "jit_env_step = jax.jit(env.step)\n",
        "jit_inference_fn = jax.jit(inference_fn)\n",
        "\n",
        "rollout = []\n",
        "rng = jax.random.PRNGKey(seed=1)\n",
        "state = jit_env_reset(rng=rng)\n",
        "for _ in range(1000):\n",
        "  rollout.append(state.pipeline_state)\n",
        "  act_rng, rng = jax.random.split(rng)\n",
        "  act, _ = jit_inference_fn(state.obs, act_rng)\n",
        "  state = jit_env_step(state, act)\n",
        "\n",
        "HTML(html.render(env.sys.replace(dt=env.dt), rollout))"
      ]
    }
  ],
  "metadata": {
    "accelerator": "GPU",
    "colab": {
      "provenance": []
    },
    "kernelspec": {
      "display_name": "Python 3",
      "name": "python3"
    },
    "language_info": {
      "name": "python",
      "version": "3.8.16"
    }
  },
  "nbformat": 4,
  "nbformat_minor": 0
}
